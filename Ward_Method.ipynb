{
 "cells": [
  {
   "cell_type": "markdown",
   "metadata": {},
   "source": [
    "# IMPORTING LIBRARIES"
   ]
  },
  {
   "cell_type": "code",
   "execution_count": null,
   "metadata": {},
   "outputs": [],
   "source": [
    "import pandas as pd\n",
    "import numpy as np\n",
    "import matplotlib.pyplot as plt\n",
    "import seaborn as sns\n",
    "from scipy.cluster.hierarchy import dendrogram, linkage, fcluster\n",
    "from sklearn.metrics import silhouette_score, calinski_harabasz_score\n",
    "from sklearn.decomposition import PCA\n",
    "from tkinter import Tk\n",
    "from tkinter.filedialog import askopenfilename"
   ]
  },
  {
   "cell_type": "markdown",
   "metadata": {},
   "source": [
    "# CSV FILE SELECTION"
   ]
  },
  {
   "cell_type": "code",
   "execution_count": null,
   "metadata": {},
   "outputs": [],
   "source": [
    "def select_file():\n",
    "    root = Tk()\n",
    "    root.withdraw()  # Hide the main Tkinter window\n",
    "    file_path = askopenfilename(title=\"Select CSV File\", filetypes=[(\"CSV Files\", \"*.csv\")])\n",
    "    return file_path\n",
    "\n",
    "# Prompt user to select a file\n",
    "file_path = select_file()\n",
    "if not file_path:\n",
    "    print(\"No file selected. Exiting...\")\n",
    "    exit()\n"
   ]
  },
  {
   "cell_type": "markdown",
   "metadata": {},
   "source": [
    "# DATA LOADING AND PREPROCESSING"
   ]
  },
  {
   "cell_type": "code",
   "execution_count": null,
   "metadata": {},
   "outputs": [],
   "source": [
    "# Load the dataset\n",
    "data = pd.read_csv(file_path)\n",
    "\n",
    "\n",
    "# Drop the Story_ID column (non-numeric data)\n",
    "X = data.drop(columns=[\"Story_ID\"])"
   ]
  },
  {
   "cell_type": "markdown",
   "metadata": {},
   "source": [
    "# SCATTER PLOT FOR INITILA DATA VISUALIZATION, (Before Clustering)"
   ]
  },
  {
   "cell_type": "code",
   "execution_count": null,
   "metadata": {},
   "outputs": [],
   "source": [
    "# Scatter plot of the dataset (initial visualization)\n",
    "pca = PCA(n_components=2)\n",
    "X_pca = pca.fit_transform(X)\n",
    "\n",
    "plt.figure(figsize=(10, 6))\n",
    "sns.scatterplot(x=X_pca[:, 0], y=X_pca[:, 1], s=100)\n",
    "plt.title(\"Initial Dataset Scatter Plot (Before Clustering)\")\n",
    "plt.xlabel(\"Principal Component 1\")\n",
    "plt.ylabel(\"Principal Component 2\")\n",
    "plt.show()"
   ]
  },
  {
   "cell_type": "markdown",
   "metadata": {},
   "source": [
    "# WARDS METHOD"
   ]
  },
  {
   "cell_type": "code",
   "execution_count": null,
   "metadata": {},
   "outputs": [],
   "source": [
    "# Perform hierarchical clustering using Ward's method\n",
    "linkage_matrix = linkage(X, method=\"ward\")\n",
    "\n",
    "# Define the number of clusters and extract cluster labels\n",
    "num_clusters = 5  # Adjust as needed\n",
    "labels = fcluster(linkage_matrix, num_clusters, criterion=\"maxclust\")\n",
    "\n",
    "# Add cluster labels to the dataset\n",
    "data[\"Cluster\"] = labels"
   ]
  },
  {
   "cell_type": "markdown",
   "metadata": {},
   "source": [
    "# SCATTER PLOT AFTER CLUSTERING"
   ]
  },
  {
   "cell_type": "code",
   "execution_count": null,
   "metadata": {},
   "outputs": [],
   "source": [
    "# Scatter plot after clustering\n",
    "plt.figure(figsize=(10, 6))\n",
    "sns.scatterplot(x=X_pca[:, 0], y=X_pca[:, 1], hue=labels, palette=\"Set2\", s=100)\n",
    "plt.title(\"Ward Method Clustering Scatter Plot (After Clustering)\")\n",
    "plt.xlabel(\"Principal Component 1\")\n",
    "plt.ylabel(\"Principal Component 2\")\n",
    "plt.legend(title=\"Clusters\", bbox_to_anchor=(1.05, 1), loc='upper left')\n",
    "plt.show()"
   ]
  },
  {
   "cell_type": "markdown",
   "metadata": {},
   "source": [
    "# dENDOGRAM pLOTTING"
   ]
  },
  {
   "cell_type": "code",
   "execution_count": null,
   "metadata": {},
   "outputs": [],
   "source": [
    "# Plot the dendrogram\n",
    "plt.figure(figsize=(12, 8))\n",
    "dendrogram(linkage_matrix, labels=data[\"Story_ID\"].values, leaf_rotation=90, leaf_font_size=10)\n",
    "plt.title(\"Dendrogram using Ward's Method\")\n",
    "plt.xlabel(\"Stories\")\n",
    "plt.ylabel(\"Distance\")\n",
    "plt.show()"
   ]
  },
  {
   "cell_type": "code",
   "execution_count": null,
   "metadata": {},
   "outputs": [],
   "source": [
    "# EVALUATING THE CLUSTERING RESULTS"
   ]
  },
  {
   "cell_type": "code",
   "execution_count": null,
   "metadata": {},
   "outputs": [],
   "source": [
    "# Evaluation metrics\n",
    "silhouette_avg = silhouette_score(X, labels)\n",
    "calinski_harabasz = calinski_harabasz_score(X, labels)\n",
    "\n",
    "print(\"Evaluation Metrics:\")\n",
    "print(f\"Silhouette Score: {silhouette_avg}\")\n",
    "print(f\"Calinski-Harabasz Score: {calinski_harabasz}\")\n",
    "\n",
    "# Save the clustering results\n",
    "data.to_csv(\"jtbd_dataset_ward_results.csv\", index=False)"
   ]
  }
 ],
 "metadata": {
  "language_info": {
   "name": "python"
  }
 },
 "nbformat": 4,
 "nbformat_minor": 2
}
